{
 "cells": [
  {
   "cell_type": "code",
   "execution_count": 9,
   "metadata": {},
   "outputs": [
    {
     "name": "stdout",
     "output_type": "stream",
     "text": [
      "[['currEmpName                                          sum    count   mean               '], ['POPULAR SECURITIES, LLC                              33     44  0.750000'], ['RGT WEALTH ADVISORS                                  14     21  0.666667'], ['ONE SEVEN                                            10     16  0.625000'], ['UNION CAPITAL COMPANY                                 9     15  0.600000'], ['NEWBRIDGE FINANCIAL SERVICES GROUP, INC.             42     70  0.600000'], ['JOSEPH GUNNAR & CO. LLC                               9     15  0.600000'], ['GARDEN STATE INVESTMENT ADVISORY SERVICES, LLC       15     27  0.555556'], ['AEGIS CAPITAL CORP.                                  44     80  0.550000'], ['WESTPARK CAPITAL, INC.                               12     22  0.545455'], ['PARTNERS CAPITAL SERVICES, INC.                       8     15  0.533333'], ['FELTL ADVISORS                                       11     21  0.523810'], ['NPA ASSET MANAGEMENT, LLC                            28     54  0.518519'], ['PROSPERITY FINANCIAL GROUP, INC.                      6     12  0.500000'], ['HERBERT J. SIMS CAPITAL MANAGEMENT, INC.             13     28  0.464286'], ['SOUTHPORT CAPITAL                                     6     13  0.461538'], ['TCFG INVESTMENT ADVISORS, LLC                        12     26  0.461538'], ['IBN FINANCIAL SERVICES, INC.                          6     13  0.461538'], ['IFAM CAPITAL                                          5     11  0.454545'], ['JRL CAPITAL ADVISORS LLC                              5     11  0.454545'], ['TITAN SECURITIES                                      8     18  0.444444'], ['COLONIAL RIVER WEALTH MANAGEMENT LLC                  7     16  0.437500'], ['ASHTON THOMAS PRIVATE WEALTH                          7     16  0.437500'], ['MILLENNIAL ADVISERS, LLC.                             6     14  0.428571'], ['UNITED ADVISORS SERVICES, LLC                         9     21  0.428571'], ['SUMMIT FINANCIAL GROUP INC                          135    315  0.428571'], ['INTERNATIONAL ASSETS INVESTMENT MANAGEMENT, LLC      43    101  0.425743'], ['SIEBERT ADVISORNXT, INC.                             11     26  0.423077'], ['CHELSEA ADVISORY SERVICES, INC                        5     12  0.416667'], ['SEACREST WEALTH MANAGEMENT, LLC                      15     36  0.416667'], ['NATIONAL WEALTH MANAGEMENT GROUP, LLC                 5     12  0.416667']]\n"
     ]
    }
   ],
   "source": [
    "\n",
    "\n",
    "with open('complaints.txt', 'r') as f:\n",
    "    \n",
    "    lines = [line.strip('\\n').split(';').replace(\" \", \"\"). for line in f]\n",
    "    \n",
    "    print(lines)\n",
    "\n",
    "    "
   ]
  },
  {
   "cell_type": "code",
   "execution_count": null,
   "metadata": {},
   "outputs": [],
   "source": []
  },
  {
   "cell_type": "code",
   "execution_count": null,
   "metadata": {},
   "outputs": [],
   "source": []
  }
 ],
 "metadata": {
  "kernelspec": {
   "display_name": "Python 3",
   "language": "python",
   "name": "python3"
  },
  "language_info": {
   "codemirror_mode": {
    "name": "ipython",
    "version": 3
   },
   "file_extension": ".py",
   "mimetype": "text/x-python",
   "name": "python",
   "nbconvert_exporter": "python",
   "pygments_lexer": "ipython3",
   "version": "3.7.0"
  }
 },
 "nbformat": 4,
 "nbformat_minor": 2
}
