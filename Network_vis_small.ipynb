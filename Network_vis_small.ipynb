{
 "cells": [
  {
   "cell_type": "code",
   "execution_count": 1,
   "metadata": {},
   "outputs": [
    {
     "name": "stdout",
     "output_type": "stream",
     "text": [
      "Python version: 3.7.0\n",
      "2.1\n"
     ]
    }
   ],
   "source": [
    "import numpy as np\n",
    "\n",
    "import platform\n",
    "print(f'Python version: {platform.python_version()}')\n",
    "import plotly.plotly as py\n",
    "import networkx as nx\n",
    "print (nx.__version__)"
   ]
  },
  {
   "cell_type": "code",
   "execution_count": 2,
   "metadata": {},
   "outputs": [
    {
     "data": {
      "text/html": [
       "<script type=\"text/javascript\">window.PlotlyConfig = {MathJaxConfig: 'local'};</script><script type=\"text/javascript\">if (window.MathJax) {MathJax.Hub.Config({SVG: {font: \"STIX-Web\"}});}</script><script>requirejs.config({paths: { 'plotly': ['https://cdn.plot.ly/plotly-latest.min']},});if(!window._Plotly) {require(['plotly'],function(plotly) {window._Plotly=plotly;});}</script>"
      ],
      "text/vnd.plotly.v1+html": [
       "<script type=\"text/javascript\">window.PlotlyConfig = {MathJaxConfig: 'local'};</script><script type=\"text/javascript\">if (window.MathJax) {MathJax.Hub.Config({SVG: {font: \"STIX-Web\"}});}</script><script>requirejs.config({paths: { 'plotly': ['https://cdn.plot.ly/plotly-latest.min']},});if(!window._Plotly) {require(['plotly'],function(plotly) {window._Plotly=plotly;});}</script>"
      ]
     },
     "metadata": {},
     "output_type": "display_data"
    }
   ],
   "source": [
    "from plotly.offline import download_plotlyjs, init_notebook_mode,  iplot, plot\n",
    "import plotly.graph_objs as go\n",
    "\n",
    "init_notebook_mode(connected=True)"
   ]
  },
  {
   "cell_type": "code",
   "execution_count": 3,
   "metadata": {},
   "outputs": [
    {
     "name": "stdout",
     "output_type": "stream",
     "text": [
      "{0: array([0.70000104, 0.21881653]), 1: array([-0.3633971 ,  0.55237774]), 2: array([0.60447866, 0.79283246]), 3: array([ 0.01674996, -0.66256484]), 4: array([-1.       , -0.0138848]), 5: array([-0.82785357, -0.56138068]), 6: array([-0.07840778, -0.0227557 ]), 7: array([ 0.94842879, -0.30344071])}\n"
     ]
    }
   ],
   "source": [
    "Ad=np.array([[0,1,1,1,0,0,0,1], # Adjacency matrix\n",
    "             [1,0,1,0,1,1,1,0],\n",
    "             [1,1,0,0,0,0,1,1],\n",
    "             [1,0,0,0,1,1,1,1],\n",
    "             [0,1,0,1,0,1,1,0],\n",
    "             [0,1,0,1,1,0,1,0],\n",
    "             [0,1,1,1,1,1,0,1],\n",
    "             [1,0,1,1,0,0,1,0]], dtype=float)\n",
    "G=nx.from_numpy_matrix(Ad)\n",
    "\n",
    "pos=nx.spring_layout(G)\n",
    "\n",
    "print(pos)"
   ]
  },
  {
   "cell_type": "code",
   "execution_count": 4,
   "metadata": {},
   "outputs": [],
   "source": [
    "labels=['Bank-1', 'Property','Assets', 'Bank-2', 'Offshore', 'Paradise-papers', 'Glencore', 'Hoifu-Energy', 'Bank-3']\n",
    "\n",
    "Xn=[pos[k][0] for k in range(len(pos))]\n",
    "Yn=[pos[k][1] for k in range(len(pos))]\n",
    "\n",
    "# trace_nodes=dict(type='scatter',\n",
    "#                  x=Xn, \n",
    "#                  y=Yn,\n",
    "#                  mode='markers',\n",
    "#                  marker=dict(size=28, color='rgb(0,240,0)'),\n",
    "#                  text=labels,\n",
    "#                  hoverinfo='text')\n",
    "\n",
    "Xe=[]\n",
    "Ye=[]\n",
    "for e in G.edges():\n",
    "    Xe.extend([pos[e[0]][0], pos[e[1]][0], None])\n",
    "    Ye.extend([pos[e[0]][1], pos[e[1]][1], None])\n",
    "    \n",
    "trace_edges=dict(type='scatter',\n",
    "                 mode='lines',\n",
    "                 x=Xe,\n",
    "                 y=Ye,\n",
    "                 line=dict(width=1, color='rgb(25,25,25)'),\n",
    "                 hoverinfo='none' \n",
    "                )\n",
    "\n",
    "trace_nodes = go.Scatter(\n",
    "    x=Xn,\n",
    "    y=Yn,\n",
    "    text=[],\n",
    "    mode='markers',\n",
    "    hoverinfo='text',\n",
    "    marker=dict(\n",
    "        showscale=True,\n",
    "        # colorscale options\n",
    "        #'Greys' | 'YlGnBu' | 'Greens' | 'YlOrRd' | 'Bluered' | 'RdBu' |\n",
    "        #'Reds' | 'Blues' | 'Picnic' | 'Rainbow' | 'Portland' | 'Jet' |\n",
    "        #'Hot' | 'Blackbody' | 'Earth' | 'Electric' | 'Viridis' |\n",
    "        colorscale='YlGnBu',\n",
    "        reversescale=True,\n",
    "        color=[],\n",
    "        size=10,\n",
    "        colorbar=dict(\n",
    "            thickness=15,\n",
    "            title='Node Connections',\n",
    "            xanchor='left',\n",
    "            titleside='right'\n",
    "        ),\n",
    "        line=dict(width=2)))\n",
    "\n",
    "# for node in G.nodes():\n",
    "#     x, y = G.node[node]['pos']\n",
    "#     node_trace['x'] += tuple([x])\n",
    "#     node_trace['y'] += tuple([y])"
   ]
  },
  {
   "cell_type": "code",
   "execution_count": 5,
   "metadata": {},
   "outputs": [
    {
     "data": {
      "application/vnd.plotly.v1+json": {
       "config": {
        "linkText": "Export to plot.ly",
        "plotlyServerURL": "https://plot.ly",
        "showLink": false
       },
       "data": [
        {
         "hoverinfo": "none",
         "line": {
          "color": "rgb(25,25,25)",
          "width": 1
         },
         "mode": "lines",
         "type": "scatter",
         "uid": "aacf3eb6-54c4-4442-8155-a7b235b85b1d",
         "x": [
          0.7000010440994222,
          -0.36339710297665473,
          null,
          0.7000010440994222,
          0.6044786596940158,
          null,
          0.7000010440994222,
          0.016749956082586004,
          null,
          0.7000010440994222,
          0.9484287936109239,
          null,
          -0.36339710297665473,
          0.6044786596940158,
          null,
          -0.36339710297665473,
          -0.9999999999999999,
          null,
          -0.36339710297665473,
          -0.8278535702905664,
          null,
          -0.36339710297665473,
          -0.07840778021972683,
          null,
          0.6044786596940158,
          -0.07840778021972683,
          null,
          0.6044786596940158,
          0.9484287936109239,
          null,
          0.016749956082586004,
          -0.9999999999999999,
          null,
          0.016749956082586004,
          -0.8278535702905664,
          null,
          0.016749956082586004,
          -0.07840778021972683,
          null,
          0.016749956082586004,
          0.9484287936109239,
          null,
          -0.9999999999999999,
          -0.8278535702905664,
          null,
          -0.9999999999999999,
          -0.07840778021972683,
          null,
          -0.8278535702905664,
          -0.07840778021972683,
          null,
          -0.07840778021972683,
          0.9484287936109239,
          null
         ],
         "y": [
          0.21881652597128207,
          0.5523777440488974,
          null,
          0.21881652597128207,
          0.7928324561749173,
          null,
          0.21881652597128207,
          -0.6625648417936347,
          null,
          0.21881652597128207,
          -0.3034407058234569,
          null,
          0.5523777440488974,
          0.7928324561749173,
          null,
          0.5523777440488974,
          -0.013884803109916535,
          null,
          0.5523777440488974,
          -0.5613806763817119,
          null,
          0.5523777440488974,
          -0.0227556990863762,
          null,
          0.7928324561749173,
          -0.0227556990863762,
          null,
          0.7928324561749173,
          -0.3034407058234569,
          null,
          -0.6625648417936347,
          -0.013884803109916535,
          null,
          -0.6625648417936347,
          -0.5613806763817119,
          null,
          -0.6625648417936347,
          -0.0227556990863762,
          null,
          -0.6625648417936347,
          -0.3034407058234569,
          null,
          -0.013884803109916535,
          -0.5613806763817119,
          null,
          -0.013884803109916535,
          -0.0227556990863762,
          null,
          -0.5613806763817119,
          -0.0227556990863762,
          null,
          -0.0227556990863762,
          -0.3034407058234569,
          null
         ]
        },
        {
         "hoverinfo": "text",
         "marker": {
          "color": [],
          "colorbar": {
           "thickness": 15,
           "title": {
            "side": "right",
            "text": "Node Connections"
           },
           "xanchor": "left"
          },
          "colorscale": "YlGnBu",
          "line": {
           "width": 2
          },
          "reversescale": true,
          "showscale": true,
          "size": 10
         },
         "mode": "markers",
         "text": [],
         "type": "scatter",
         "uid": "3993cc21-558b-49c3-be01-3905a9f0da04",
         "x": [
          0.7000010440994222,
          -0.36339710297665473,
          0.6044786596940158,
          0.016749956082586004,
          -0.9999999999999999,
          -0.8278535702905664,
          -0.07840778021972683,
          0.9484287936109239
         ],
         "y": [
          0.21881652597128207,
          0.5523777440488974,
          0.7928324561749173,
          -0.6625648417936347,
          -0.013884803109916535,
          -0.5613806763817119,
          -0.0227556990863762,
          -0.3034407058234569
         ]
        }
       ],
       "layout": {
        "annotations": [
         {
          "showarrow": false,
          "text": "Python code: <a href='https://plot.ly/ipython-notebooks/network-graphs/'> https://plot.ly/ipython-notebooks/network-graphs/</a>",
          "x": 0.005,
          "xref": "paper",
          "y": -0.002,
          "yref": "paper"
         }
        ],
        "hovermode": "closest",
        "margin": {
         "b": 20,
         "l": 5,
         "r": 5,
         "t": 40
        },
        "showlegend": false,
        "title": {
         "font": {
          "size": 16
         },
         "text": "<br>Network graph made with Python"
        },
        "xaxis": {
         "showgrid": false,
         "showticklabels": false,
         "zeroline": false
        },
        "yaxis": {
         "showgrid": false,
         "showticklabels": false,
         "zeroline": false
        }
       }
      },
      "text/html": [
       "<div id=\"bcea3ff5-fbf2-4869-81c2-780c9f9b27f5\" style=\"height: 525px; width: 100%;\" class=\"plotly-graph-div\"></div><script type=\"text/javascript\">require([\"plotly\"], function(Plotly) { window.PLOTLYENV=window.PLOTLYENV || {};window.PLOTLYENV.BASE_URL=\"https://plot.ly\";\n",
       "if (document.getElementById(\"bcea3ff5-fbf2-4869-81c2-780c9f9b27f5\")) {\n",
       "    Plotly.newPlot(\"bcea3ff5-fbf2-4869-81c2-780c9f9b27f5\", [{\"hoverinfo\": \"none\", \"line\": {\"color\": \"rgb(25,25,25)\", \"width\": 1}, \"mode\": \"lines\", \"x\": [0.7000010440994222, -0.36339710297665473, null, 0.7000010440994222, 0.6044786596940158, null, 0.7000010440994222, 0.016749956082586004, null, 0.7000010440994222, 0.9484287936109239, null, -0.36339710297665473, 0.6044786596940158, null, -0.36339710297665473, -0.9999999999999999, null, -0.36339710297665473, -0.8278535702905664, null, -0.36339710297665473, -0.07840778021972683, null, 0.6044786596940158, -0.07840778021972683, null, 0.6044786596940158, 0.9484287936109239, null, 0.016749956082586004, -0.9999999999999999, null, 0.016749956082586004, -0.8278535702905664, null, 0.016749956082586004, -0.07840778021972683, null, 0.016749956082586004, 0.9484287936109239, null, -0.9999999999999999, -0.8278535702905664, null, -0.9999999999999999, -0.07840778021972683, null, -0.8278535702905664, -0.07840778021972683, null, -0.07840778021972683, 0.9484287936109239, null], \"y\": [0.21881652597128207, 0.5523777440488974, null, 0.21881652597128207, 0.7928324561749173, null, 0.21881652597128207, -0.6625648417936347, null, 0.21881652597128207, -0.3034407058234569, null, 0.5523777440488974, 0.7928324561749173, null, 0.5523777440488974, -0.013884803109916535, null, 0.5523777440488974, -0.5613806763817119, null, 0.5523777440488974, -0.0227556990863762, null, 0.7928324561749173, -0.0227556990863762, null, 0.7928324561749173, -0.3034407058234569, null, -0.6625648417936347, -0.013884803109916535, null, -0.6625648417936347, -0.5613806763817119, null, -0.6625648417936347, -0.0227556990863762, null, -0.6625648417936347, -0.3034407058234569, null, -0.013884803109916535, -0.5613806763817119, null, -0.013884803109916535, -0.0227556990863762, null, -0.5613806763817119, -0.0227556990863762, null, -0.0227556990863762, -0.3034407058234569, null], \"type\": \"scatter\", \"uid\": \"aacf3eb6-54c4-4442-8155-a7b235b85b1d\"}, {\"hoverinfo\": \"text\", \"marker\": {\"color\": [], \"colorbar\": {\"thickness\": 15, \"title\": {\"side\": \"right\", \"text\": \"Node Connections\"}, \"xanchor\": \"left\"}, \"colorscale\": \"YlGnBu\", \"line\": {\"width\": 2}, \"reversescale\": true, \"showscale\": true, \"size\": 10}, \"mode\": \"markers\", \"text\": [], \"x\": [0.7000010440994222, -0.36339710297665473, 0.6044786596940158, 0.016749956082586004, -0.9999999999999999, -0.8278535702905664, -0.07840778021972683, 0.9484287936109239], \"y\": [0.21881652597128207, 0.5523777440488974, 0.7928324561749173, -0.6625648417936347, -0.013884803109916535, -0.5613806763817119, -0.0227556990863762, -0.3034407058234569], \"type\": \"scatter\", \"uid\": \"3993cc21-558b-49c3-be01-3905a9f0da04\"}], {\"annotations\": [{\"showarrow\": false, \"text\": \"Python code: <a href='https://plot.ly/ipython-notebooks/network-graphs/'> https://plot.ly/ipython-notebooks/network-graphs/</a>\", \"x\": 0.005, \"xref\": \"paper\", \"y\": -0.002, \"yref\": \"paper\"}], \"hovermode\": \"closest\", \"margin\": {\"b\": 20, \"l\": 5, \"r\": 5, \"t\": 40}, \"showlegend\": false, \"title\": {\"font\": {\"size\": 16}, \"text\": \"<br>Network graph made with Python\"}, \"xaxis\": {\"showgrid\": false, \"showticklabels\": false, \"zeroline\": false}, \"yaxis\": {\"showgrid\": false, \"showticklabels\": false, \"zeroline\": false}}, {\"showLink\": false, \"linkText\": \"Export to plot.ly\", \"plotlyServerURL\": \"https://plot.ly\"}); \n",
       "}\n",
       "});</script><script type=\"text/javascript\">window.addEventListener(\"resize\", function(){if (document.getElementById(\"bcea3ff5-fbf2-4869-81c2-780c9f9b27f5\")) {window._Plotly.Plots.resize(document.getElementById(\"bcea3ff5-fbf2-4869-81c2-780c9f9b27f5\"));};})</script>"
      ],
      "text/vnd.plotly.v1+html": [
       "<div id=\"bcea3ff5-fbf2-4869-81c2-780c9f9b27f5\" style=\"height: 525px; width: 100%;\" class=\"plotly-graph-div\"></div><script type=\"text/javascript\">require([\"plotly\"], function(Plotly) { window.PLOTLYENV=window.PLOTLYENV || {};window.PLOTLYENV.BASE_URL=\"https://plot.ly\";\n",
       "if (document.getElementById(\"bcea3ff5-fbf2-4869-81c2-780c9f9b27f5\")) {\n",
       "    Plotly.newPlot(\"bcea3ff5-fbf2-4869-81c2-780c9f9b27f5\", [{\"hoverinfo\": \"none\", \"line\": {\"color\": \"rgb(25,25,25)\", \"width\": 1}, \"mode\": \"lines\", \"x\": [0.7000010440994222, -0.36339710297665473, null, 0.7000010440994222, 0.6044786596940158, null, 0.7000010440994222, 0.016749956082586004, null, 0.7000010440994222, 0.9484287936109239, null, -0.36339710297665473, 0.6044786596940158, null, -0.36339710297665473, -0.9999999999999999, null, -0.36339710297665473, -0.8278535702905664, null, -0.36339710297665473, -0.07840778021972683, null, 0.6044786596940158, -0.07840778021972683, null, 0.6044786596940158, 0.9484287936109239, null, 0.016749956082586004, -0.9999999999999999, null, 0.016749956082586004, -0.8278535702905664, null, 0.016749956082586004, -0.07840778021972683, null, 0.016749956082586004, 0.9484287936109239, null, -0.9999999999999999, -0.8278535702905664, null, -0.9999999999999999, -0.07840778021972683, null, -0.8278535702905664, -0.07840778021972683, null, -0.07840778021972683, 0.9484287936109239, null], \"y\": [0.21881652597128207, 0.5523777440488974, null, 0.21881652597128207, 0.7928324561749173, null, 0.21881652597128207, -0.6625648417936347, null, 0.21881652597128207, -0.3034407058234569, null, 0.5523777440488974, 0.7928324561749173, null, 0.5523777440488974, -0.013884803109916535, null, 0.5523777440488974, -0.5613806763817119, null, 0.5523777440488974, -0.0227556990863762, null, 0.7928324561749173, -0.0227556990863762, null, 0.7928324561749173, -0.3034407058234569, null, -0.6625648417936347, -0.013884803109916535, null, -0.6625648417936347, -0.5613806763817119, null, -0.6625648417936347, -0.0227556990863762, null, -0.6625648417936347, -0.3034407058234569, null, -0.013884803109916535, -0.5613806763817119, null, -0.013884803109916535, -0.0227556990863762, null, -0.5613806763817119, -0.0227556990863762, null, -0.0227556990863762, -0.3034407058234569, null], \"type\": \"scatter\", \"uid\": \"aacf3eb6-54c4-4442-8155-a7b235b85b1d\"}, {\"hoverinfo\": \"text\", \"marker\": {\"color\": [], \"colorbar\": {\"thickness\": 15, \"title\": {\"side\": \"right\", \"text\": \"Node Connections\"}, \"xanchor\": \"left\"}, \"colorscale\": \"YlGnBu\", \"line\": {\"width\": 2}, \"reversescale\": true, \"showscale\": true, \"size\": 10}, \"mode\": \"markers\", \"text\": [], \"x\": [0.7000010440994222, -0.36339710297665473, 0.6044786596940158, 0.016749956082586004, -0.9999999999999999, -0.8278535702905664, -0.07840778021972683, 0.9484287936109239], \"y\": [0.21881652597128207, 0.5523777440488974, 0.7928324561749173, -0.6625648417936347, -0.013884803109916535, -0.5613806763817119, -0.0227556990863762, -0.3034407058234569], \"type\": \"scatter\", \"uid\": \"3993cc21-558b-49c3-be01-3905a9f0da04\"}], {\"annotations\": [{\"showarrow\": false, \"text\": \"Python code: <a href='https://plot.ly/ipython-notebooks/network-graphs/'> https://plot.ly/ipython-notebooks/network-graphs/</a>\", \"x\": 0.005, \"xref\": \"paper\", \"y\": -0.002, \"yref\": \"paper\"}], \"hovermode\": \"closest\", \"margin\": {\"b\": 20, \"l\": 5, \"r\": 5, \"t\": 40}, \"showlegend\": false, \"title\": {\"font\": {\"size\": 16}, \"text\": \"<br>Network graph made with Python\"}, \"xaxis\": {\"showgrid\": false, \"showticklabels\": false, \"zeroline\": false}, \"yaxis\": {\"showgrid\": false, \"showticklabels\": false, \"zeroline\": false}}, {\"showLink\": false, \"linkText\": \"Export to plot.ly\", \"plotlyServerURL\": \"https://plot.ly\"}); \n",
       "}\n",
       "});</script><script type=\"text/javascript\">window.addEventListener(\"resize\", function(){if (document.getElementById(\"bcea3ff5-fbf2-4869-81c2-780c9f9b27f5\")) {window._Plotly.Plots.resize(document.getElementById(\"bcea3ff5-fbf2-4869-81c2-780c9f9b27f5\"));};})</script>"
      ]
     },
     "metadata": {},
     "output_type": "display_data"
    }
   ],
   "source": [
    "# axis=dict(showline=False, # hide axis line, grid, ticklabels and  title\n",
    "#           zeroline=False,\n",
    "#           showgrid=False,\n",
    "#           showticklabels=False,\n",
    "#           title='' \n",
    "#           )\n",
    "# layout=dict(title= 'My Graph',  \n",
    "#             font= dict(family='Balto'),\n",
    "#             width=600,\n",
    "#             height=600,\n",
    "#             autosize=False,\n",
    "#             showlegend=False,\n",
    "#             xaxis=axis,\n",
    "#             yaxis=axis,\n",
    "#             margin=dict(\n",
    "#             l=40,\n",
    "#             r=40,\n",
    "#             b=85,\n",
    "#             t=100,\n",
    "#             pad=0,\n",
    "       \n",
    "#     ),\n",
    "#     hovermode='closest',\n",
    "#     plot_bgcolor='#efecea', #set background color            \n",
    "#     )\n",
    "\n",
    "fig = go.Figure(data=[trace_edges, trace_nodes],\n",
    "             layout=go.Layout(\n",
    "                title='<br>Network graph made with Python',\n",
    "                titlefont=dict(size=16),\n",
    "                showlegend=False,\n",
    "                hovermode='closest',\n",
    "                margin=dict(b=20,l=5,r=5,t=40),\n",
    "                annotations=[ dict(\n",
    "                    text=\"Python code: <a href='https://plot.ly/ipython-notebooks/network-graphs/'> https://plot.ly/ipython-notebooks/network-graphs/</a>\",\n",
    "                    showarrow=False,\n",
    "                    xref=\"paper\", yref=\"paper\",\n",
    "                    x=0.005, y=-0.002 ) ],\n",
    "                xaxis=dict(showgrid=False, zeroline=False, showticklabels=False),\n",
    "                yaxis=dict(showgrid=False, zeroline=False, showticklabels=False)))\n",
    "\n",
    "# py.iplot(fig, filename='networkx')\n",
    "iplot(fig, filename='networkx')\n",
    "# fig = dict(data=[trace_edges, trace_nodes], layout=layout)\n",
    "# iplot(fig)\n"
   ]
  }
 ],
 "metadata": {
  "kernelspec": {
   "display_name": "Python 3",
   "language": "python",
   "name": "python3"
  },
  "language_info": {
   "codemirror_mode": {
    "name": "ipython",
    "version": 3
   },
   "file_extension": ".py",
   "mimetype": "text/x-python",
   "name": "python",
   "nbconvert_exporter": "python",
   "pygments_lexer": "ipython3",
   "version": "3.7.0"
  }
 },
 "nbformat": 4,
 "nbformat_minor": 2
}
