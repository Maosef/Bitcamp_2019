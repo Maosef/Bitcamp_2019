{
 "cells": [
  {
   "cell_type": "code",
   "execution_count": 1,
   "metadata": {},
   "outputs": [],
   "source": [
    "import pandas as pd\n",
    "import xml.etree.ElementTree as ET\n",
    "import numpy as np"
   ]
  },
  {
   "cell_type": "code",
   "execution_count": 2,
   "metadata": {},
   "outputs": [],
   "source": [
    "\n",
    "tree = ET.parse('Investment Adviser Representatives Report/IA_Indvl_Feeds1.xml')\n",
    "root = tree.getroot()"
   ]
  },
  {
   "cell_type": "code",
   "execution_count": 3,
   "metadata": {},
   "outputs": [],
   "source": [
    "info = []\n",
    "drp = []\n",
    "for Indvl in root.find('Indvls'):\n",
    "    #print(Indvl.find('Info').attrib)\n",
    "    info.append(Indvl.find('Info').attrib)\n",
    "    index = 0\n",
    "    if Indvl.find('DRPs'):\n",
    "        for DRP in Indvl.find('DRPs'):\n",
    "            #drp.append(DRPs.find('DRP').attrib)\n",
    "            drp.append(DRP.attrib)\n",
    "    else:\n",
    "        drp.append({'hasRegAction': np.nan,\n",
    "                      'hasCriminal': np.nan,\n",
    "                      'hasBankrupt': np.nan,\n",
    "                      'hasCivilJudc': np.nan,\n",
    "                      'hasBond': np.nan,\n",
    "                      'hasJudgment': np.nan,\n",
    "                      'hasInvstgn': np.nan,\n",
    "                      'hasCustComp': np.nan,\n",
    "                      'hasTermination': np.nan})"
   ]
  },
  {
   "cell_type": "code",
   "execution_count": 4,
   "metadata": {},
   "outputs": [
    {
     "data": {
      "text/plain": [
       "(17687, 7)"
      ]
     },
     "execution_count": 4,
     "metadata": {},
     "output_type": "execute_result"
    }
   ],
   "source": [
    "pd.DataFrame(info).shape"
   ]
  },
  {
   "cell_type": "code",
   "execution_count": 5,
   "metadata": {},
   "outputs": [
    {
     "data": {
      "text/plain": [
       "(17687, 9)"
      ]
     },
     "execution_count": 5,
     "metadata": {},
     "output_type": "execute_result"
    }
   ],
   "source": [
    "pd.DataFrame(drp).shape"
   ]
  },
  {
   "cell_type": "code",
   "execution_count": 6,
   "metadata": {},
   "outputs": [
    {
     "name": "stdout",
     "output_type": "stream",
     "text": [
      "      actvAGReg      firstNm  indvlPK            lastNm  \\\n",
      "0             Y     JONATHAN  2688305            POTTER   \n",
      "1             Y         ALAN  2793573            DAWSON   \n",
      "2             Y         PAUL  2873183           DESMOND   \n",
      "3             Y       DEANNA  2858140             PERRY   \n",
      "4             Y       Ernest  2764017          Martinez   \n",
      "5             Y     LORRAINE  2699651             CRAIG   \n",
      "6             Y       Rizwan  2865966           Mahmood   \n",
      "7             N      BRENTON  2825608             FEWOX   \n",
      "8             Y       ROBERT  2783907             LAIRD   \n",
      "9             Y        DAVID  2769750           KINNEAR   \n",
      "10            Y      WILLIAM  2723868           UNKRAUT   \n",
      "11            Y      REBECCA  2833377          MORELAND   \n",
      "12            Y         ERIK  2839461          ALLSTATT   \n",
      "13            Y       CALVIN  2663242       SENDAYDIEGO   \n",
      "14            N        JANET  2705363           JOHNSON   \n",
      "15            Y        CONAL  2865852   SATURNO-SANJANA   \n",
      "16            N  CHRISTOPHER  2756155          WILLIAMS   \n",
      "17            N      KATHRYN  2651296            Vaughn   \n",
      "18            Y       STEVEN  2855141             ABBEY   \n",
      "19            Y      MANFRED  2832872    VON EHRENFRIED   \n",
      "20            Y         JILL  2734795  SCHILDKRAUT-KATZ   \n",
      "21            Y        EDGAR  2825297             MEJIA   \n",
      "22            Y        JACKY  2724404               TAM   \n",
      "23            Y         MARC  2786474           LAVIAGE   \n",
      "24            Y    FRANCISCO  2786574              MAZA   \n",
      "25            N        GRACE  2766928               LAU   \n",
      "26            Y      Arnetta  2880572            Tolley   \n",
      "27            Y        JAMES  2634808            MACKEY   \n",
      "28            N        DAVID  2776885              TATE   \n",
      "29            Y       DANIEL  2723410           NEEDLER   \n",
      "...         ...          ...      ...               ...   \n",
      "17657         Y        ETHAN  2683605            RIBLER   \n",
      "17658         Y      MONIQUE  2741586            HARRAN   \n",
      "17659         Y        DEREK  2669463             FROSH   \n",
      "17660         Y        DAVID  2831507            SCOTCH   \n",
      "17661         Y        Frank  2643810       DiBenedetto   \n",
      "17662         Y    SEBASTIAN  2836706         FASANELLO   \n",
      "17663         Y        DEBRA  2735991           CONTINO   \n",
      "17664         Y       TERESA  2727437         SCHLINGER   \n",
      "17665         Y      WILLIAM  2737762            MC REE   \n",
      "17666         Y      WILLIAM  2679832            KARNES   \n",
      "17667         Y       ROBERT  2756495        WICKENKAMP   \n",
      "17668         Y        JASON  2731181          ESKENAZI   \n",
      "17669         N      RICHARD  2665703          ROCKWELL   \n",
      "17670         Y         JODY  2634404              ZIRN   \n",
      "17671         Y       CARLOS  2856454            CORTEZ   \n",
      "17672         Y      MICHAEL  2744495            MUNSON   \n",
      "17673         Y        DAVID  2842125        DARLINGTON   \n",
      "17674         Y        SCOTT  2812372          HULTSMAN   \n",
      "17675         N        BRIAN  2838334             LOPEZ   \n",
      "17676         N       JOSEPH  2780455           MICHAUD   \n",
      "17677         Y        LINDA  2752598            MURPHY   \n",
      "17678         N        JAMES  2824026           SHANTON   \n",
      "17679         Y      SHALEEN  2777252            NEWTON   \n",
      "17680         Y         Mark  2863015           Jackson   \n",
      "17681         Y       MARTIN  2638569            CUILLA   \n",
      "17682         N         JOHN  2881592            BAXMAN   \n",
      "17683         N         MARC  2735299          TRAVERSO   \n",
      "17684         Y       GORDON  2752792              MARK   \n",
      "17685         Y        TERRY  2731254            KERBER   \n",
      "17686         Y       Andrew  2740022              Lang   \n",
      "\n",
      "                                                    link     midNm sufNm  \\\n",
      "0      http://www.adviserinfo.sec.gov/IAPD/Individual...    HAWKES   NaN   \n",
      "1      http://www.adviserinfo.sec.gov/IAPD/Individual...   MCGUIRE   NaN   \n",
      "2      http://www.adviserinfo.sec.gov/IAPD/Individual...    ANDREW   NaN   \n",
      "3      http://www.adviserinfo.sec.gov/IAPD/Individual...       FOY   NaN   \n",
      "4      http://www.adviserinfo.sec.gov/IAPD/Individual...         J   NaN   \n",
      "5      http://www.adviserinfo.sec.gov/IAPD/Individual...   ALLISON   NaN   \n",
      "6      http://www.adviserinfo.sec.gov/IAPD/Individual...     Anwar   NaN   \n",
      "7      http://www.adviserinfo.sec.gov/IAPD/Individual...       LEE   NaN   \n",
      "8      http://www.adviserinfo.sec.gov/IAPD/Individual...     COLIN    JR   \n",
      "9      http://www.adviserinfo.sec.gov/IAPD/Individual...   STEPHEN   NaN   \n",
      "10     http://www.adviserinfo.sec.gov/IAPD/Individual...    JOSEPH   NaN   \n",
      "11     http://www.adviserinfo.sec.gov/IAPD/Individual...    BINDER   NaN   \n",
      "12     http://www.adviserinfo.sec.gov/IAPD/Individual...    ARTHUR   NaN   \n",
      "13     http://www.adviserinfo.sec.gov/IAPD/Individual...      JOHN   NaN   \n",
      "14     http://www.adviserinfo.sec.gov/IAPD/Individual...     TYLER   NaN   \n",
      "15     http://www.adviserinfo.sec.gov/IAPD/Individual...       NaN   NaN   \n",
      "16     http://www.adviserinfo.sec.gov/IAPD/Individual...     RALPH   NaN   \n",
      "17     http://www.adviserinfo.sec.gov/IAPD/Individual...   ROBERTS   NaN   \n",
      "18     http://www.adviserinfo.sec.gov/IAPD/Individual...   RADFORD   NaN   \n",
      "19     http://www.adviserinfo.sec.gov/IAPD/Individual...      HANS    II   \n",
      "20     http://www.adviserinfo.sec.gov/IAPD/Individual...         D   NaN   \n",
      "21     http://www.adviserinfo.sec.gov/IAPD/Individual...   ALCIDES   NaN   \n",
      "22     http://www.adviserinfo.sec.gov/IAPD/Individual...    KA HIU   NaN   \n",
      "23     http://www.adviserinfo.sec.gov/IAPD/Individual...    EDMUND   NaN   \n",
      "24     http://www.adviserinfo.sec.gov/IAPD/Individual...    XAVIER   NaN   \n",
      "25     http://www.adviserinfo.sec.gov/IAPD/Individual...       NaN   NaN   \n",
      "26     http://www.adviserinfo.sec.gov/IAPD/Individual...        V.   NaN   \n",
      "27     http://www.adviserinfo.sec.gov/IAPD/Individual...       LEE   NaN   \n",
      "28     http://www.adviserinfo.sec.gov/IAPD/Individual...    WARREN   NaN   \n",
      "29     http://www.adviserinfo.sec.gov/IAPD/Individual...    ERNEST   NaN   \n",
      "...                                                  ...       ...   ...   \n",
      "17657  http://www.adviserinfo.sec.gov/IAPD/Individual...  CLIFFORD   NaN   \n",
      "17658  http://www.adviserinfo.sec.gov/IAPD/Individual...         R   NaN   \n",
      "17659  http://www.adviserinfo.sec.gov/IAPD/Individual...  GEOFFREY   NaN   \n",
      "17660  http://www.adviserinfo.sec.gov/IAPD/Individual...      ALAN   NaN   \n",
      "17661  http://www.adviserinfo.sec.gov/IAPD/Individual...      Paul   NaN   \n",
      "17662  http://www.adviserinfo.sec.gov/IAPD/Individual...   WILLIAM   NaN   \n",
      "17663  http://www.adviserinfo.sec.gov/IAPD/Individual...         A   NaN   \n",
      "17664  http://www.adviserinfo.sec.gov/IAPD/Individual...       ANN   NaN   \n",
      "17665  http://www.adviserinfo.sec.gov/IAPD/Individual...   MATTHEW   NaN   \n",
      "17666  http://www.adviserinfo.sec.gov/IAPD/Individual...   GARDNER   NaN   \n",
      "17667  http://www.adviserinfo.sec.gov/IAPD/Individual...     JAMES   NaN   \n",
      "17668  http://www.adviserinfo.sec.gov/IAPD/Individual...   MICHAEL   NaN   \n",
      "17669  http://www.adviserinfo.sec.gov/IAPD/Individual...       DOW   NaN   \n",
      "17670  http://www.adviserinfo.sec.gov/IAPD/Individual...      GAIL   NaN   \n",
      "17671  http://www.adviserinfo.sec.gov/IAPD/Individual...      LUIS   NaN   \n",
      "17672  http://www.adviserinfo.sec.gov/IAPD/Individual...     SCOTT   NaN   \n",
      "17673  http://www.adviserinfo.sec.gov/IAPD/Individual...    LELAND   NaN   \n",
      "17674  http://www.adviserinfo.sec.gov/IAPD/Individual...     LAYNE   NaN   \n",
      "17675  http://www.adviserinfo.sec.gov/IAPD/Individual...   VINCENT   NaN   \n",
      "17676  http://www.adviserinfo.sec.gov/IAPD/Individual...   WILLIAM   NaN   \n",
      "17677  http://www.adviserinfo.sec.gov/IAPD/Individual...   LORETTA   NaN   \n",
      "17678  http://www.adviserinfo.sec.gov/IAPD/Individual...     ALLEN   NaN   \n",
      "17679  http://www.adviserinfo.sec.gov/IAPD/Individual...     RENEE   NaN   \n",
      "17680  http://www.adviserinfo.sec.gov/IAPD/Individual...     Allen   NaN   \n",
      "17681  http://www.adviserinfo.sec.gov/IAPD/Individual...       LEE   NaN   \n",
      "17682  http://www.adviserinfo.sec.gov/IAPD/Individual...   MICHAEL   NaN   \n",
      "17683  http://www.adviserinfo.sec.gov/IAPD/Individual...   ANTHONY   NaN   \n",
      "17684  http://www.adviserinfo.sec.gov/IAPD/Individual...  GRIFFITH   NaN   \n",
      "17685  http://www.adviserinfo.sec.gov/IAPD/Individual...   WILLIAM   NaN   \n",
      "17686  http://www.adviserinfo.sec.gov/IAPD/Individual...         D   NaN   \n",
      "\n",
      "      hasBankrupt hasBond hasCivilJudc hasCriminal hasCustComp hasInvstgn  \\\n",
      "0               N       N            N           N           Y          N   \n",
      "1             NaN     NaN          NaN         NaN         NaN        NaN   \n",
      "2               N       N            N           N           Y          N   \n",
      "3             NaN     NaN          NaN         NaN         NaN        NaN   \n",
      "4               N       N            N           N           Y          N   \n",
      "5             NaN     NaN          NaN         NaN         NaN        NaN   \n",
      "6             NaN     NaN          NaN         NaN         NaN        NaN   \n",
      "7               N       N            N           N           N          N   \n",
      "8             NaN     NaN          NaN         NaN         NaN        NaN   \n",
      "9               N       N            N           N           N          N   \n",
      "10            NaN     NaN          NaN         NaN         NaN        NaN   \n",
      "11              N       N            N           N           Y          N   \n",
      "12              Y       N            N           N           N          N   \n",
      "13            NaN     NaN          NaN         NaN         NaN        NaN   \n",
      "14            NaN     NaN          NaN         NaN         NaN        NaN   \n",
      "15            NaN     NaN          NaN         NaN         NaN        NaN   \n",
      "16            NaN     NaN          NaN         NaN         NaN        NaN   \n",
      "17            NaN     NaN          NaN         NaN         NaN        NaN   \n",
      "18            NaN     NaN          NaN         NaN         NaN        NaN   \n",
      "19              N       N            N           Y           N          N   \n",
      "20            NaN     NaN          NaN         NaN         NaN        NaN   \n",
      "21            NaN     NaN          NaN         NaN         NaN        NaN   \n",
      "22            NaN     NaN          NaN         NaN         NaN        NaN   \n",
      "23            NaN     NaN          NaN         NaN         NaN        NaN   \n",
      "24            NaN     NaN          NaN         NaN         NaN        NaN   \n",
      "25            NaN     NaN          NaN         NaN         NaN        NaN   \n",
      "26            NaN     NaN          NaN         NaN         NaN        NaN   \n",
      "27            NaN     NaN          NaN         NaN         NaN        NaN   \n",
      "28            NaN     NaN          NaN         NaN         NaN        NaN   \n",
      "29              Y       N            N           N           Y          N   \n",
      "...           ...     ...          ...         ...         ...        ...   \n",
      "17657         NaN     NaN          NaN         NaN         NaN        NaN   \n",
      "17658           N       N            N           N           N          N   \n",
      "17659         NaN     NaN          NaN         NaN         NaN        NaN   \n",
      "17660         NaN     NaN          NaN         NaN         NaN        NaN   \n",
      "17661           Y       N            N           N           N          N   \n",
      "17662         NaN     NaN          NaN         NaN         NaN        NaN   \n",
      "17663         NaN     NaN          NaN         NaN         NaN        NaN   \n",
      "17664         NaN     NaN          NaN         NaN         NaN        NaN   \n",
      "17665         NaN     NaN          NaN         NaN         NaN        NaN   \n",
      "17666         NaN     NaN          NaN         NaN         NaN        NaN   \n",
      "17667         NaN     NaN          NaN         NaN         NaN        NaN   \n",
      "17668           N       N            N           N           N          N   \n",
      "17669           N       N            N           N           Y          N   \n",
      "17670           Y       N            N           N           Y          N   \n",
      "17671         NaN     NaN          NaN         NaN         NaN        NaN   \n",
      "17672         NaN     NaN          NaN         NaN         NaN        NaN   \n",
      "17673         NaN     NaN          NaN         NaN         NaN        NaN   \n",
      "17674           N       N            N           N           Y          N   \n",
      "17675         NaN     NaN          NaN         NaN         NaN        NaN   \n",
      "17676         NaN     NaN          NaN         NaN         NaN        NaN   \n",
      "17677         NaN     NaN          NaN         NaN         NaN        NaN   \n",
      "17678         NaN     NaN          NaN         NaN         NaN        NaN   \n",
      "17679         NaN     NaN          NaN         NaN         NaN        NaN   \n",
      "17680         NaN     NaN          NaN         NaN         NaN        NaN   \n",
      "17681           N       N            N           Y           N          N   \n",
      "17682         NaN     NaN          NaN         NaN         NaN        NaN   \n",
      "17683         NaN     NaN          NaN         NaN         NaN        NaN   \n",
      "17684         NaN     NaN          NaN         NaN         NaN        NaN   \n",
      "17685           N       N            N           N           Y          N   \n",
      "17686         NaN     NaN          NaN         NaN         NaN        NaN   \n",
      "\n",
      "      hasJudgment hasRegAction hasTermination  \n",
      "0               N            N              N  \n",
      "1             NaN          NaN            NaN  \n",
      "2               N            N              N  \n",
      "3             NaN          NaN            NaN  \n",
      "4               N            N              N  \n",
      "5             NaN          NaN            NaN  \n",
      "6             NaN          NaN            NaN  \n",
      "7               N            N              Y  \n",
      "8             NaN          NaN            NaN  \n",
      "9               N            Y              N  \n",
      "10            NaN          NaN            NaN  \n",
      "11              N            N              N  \n",
      "12              N            N              N  \n",
      "13            NaN          NaN            NaN  \n",
      "14            NaN          NaN            NaN  \n",
      "15            NaN          NaN            NaN  \n",
      "16            NaN          NaN            NaN  \n",
      "17            NaN          NaN            NaN  \n",
      "18            NaN          NaN            NaN  \n",
      "19              N            N              N  \n",
      "20            NaN          NaN            NaN  \n",
      "21            NaN          NaN            NaN  \n",
      "22            NaN          NaN            NaN  \n",
      "23            NaN          NaN            NaN  \n",
      "24            NaN          NaN            NaN  \n",
      "25            NaN          NaN            NaN  \n",
      "26            NaN          NaN            NaN  \n",
      "27            NaN          NaN            NaN  \n",
      "28            NaN          NaN            NaN  \n",
      "29              Y            N              N  \n",
      "...           ...          ...            ...  \n",
      "17657         NaN          NaN            NaN  \n",
      "17658           Y            N              N  \n",
      "17659         NaN          NaN            NaN  \n",
      "17660         NaN          NaN            NaN  \n",
      "17661           N            N              N  \n",
      "17662         NaN          NaN            NaN  \n",
      "17663         NaN          NaN            NaN  \n",
      "17664         NaN          NaN            NaN  \n",
      "17665         NaN          NaN            NaN  \n",
      "17666         NaN          NaN            NaN  \n",
      "17667         NaN          NaN            NaN  \n",
      "17668           N            Y              N  \n",
      "17669           N            Y              N  \n",
      "17670           N            N              N  \n",
      "17671         NaN          NaN            NaN  \n",
      "17672         NaN          NaN            NaN  \n",
      "17673         NaN          NaN            NaN  \n",
      "17674           N            N              N  \n",
      "17675         NaN          NaN            NaN  \n",
      "17676         NaN          NaN            NaN  \n",
      "17677         NaN          NaN            NaN  \n",
      "17678         NaN          NaN            NaN  \n",
      "17679         NaN          NaN            NaN  \n",
      "17680         NaN          NaN            NaN  \n",
      "17681           N            N              N  \n",
      "17682         NaN          NaN            NaN  \n",
      "17683         NaN          NaN            NaN  \n",
      "17684         NaN          NaN            NaN  \n",
      "17685           N            Y              N  \n",
      "17686         NaN          NaN            NaN  \n",
      "\n",
      "[17687 rows x 16 columns]\n"
     ]
    }
   ],
   "source": [
    "data = pd.concat([pd.DataFrame(info),pd.DataFrame(drp)],axis=1)\n",
    "print(data)"
   ]
  },
  {
   "cell_type": "code",
   "execution_count": 7,
   "metadata": {},
   "outputs": [
    {
     "name": "stdout",
     "output_type": "stream",
     "text": [
      "  actvAGReg   firstNm  indvlPK    lastNm  \\\n",
      "0         Y  JONATHAN  2688305    POTTER   \n",
      "2         Y      PAUL  2873183   DESMOND   \n",
      "4         Y    Ernest  2764017  Martinez   \n",
      "7         N   BRENTON  2825608     FEWOX   \n",
      "9         Y     DAVID  2769750   KINNEAR   \n",
      "\n",
      "                                                link    midNm sufNm  \\\n",
      "0  http://www.adviserinfo.sec.gov/IAPD/Individual...   HAWKES   NaN   \n",
      "2  http://www.adviserinfo.sec.gov/IAPD/Individual...   ANDREW   NaN   \n",
      "4  http://www.adviserinfo.sec.gov/IAPD/Individual...        J   NaN   \n",
      "7  http://www.adviserinfo.sec.gov/IAPD/Individual...      LEE   NaN   \n",
      "9  http://www.adviserinfo.sec.gov/IAPD/Individual...  STEPHEN   NaN   \n",
      "\n",
      "  hasBankrupt hasBond hasCivilJudc hasCriminal hasCustComp hasInvstgn  \\\n",
      "0           N       N            N           N           Y          N   \n",
      "2           N       N            N           N           Y          N   \n",
      "4           N       N            N           N           Y          N   \n",
      "7           N       N            N           N           N          N   \n",
      "9           N       N            N           N           N          N   \n",
      "\n",
      "  hasJudgment hasRegAction hasTermination  \n",
      "0           N            N              N  \n",
      "2           N            N              N  \n",
      "4           N            N              N  \n",
      "7           N            N              Y  \n",
      "9           N            Y              N  \n",
      "(4551, 16)\n"
     ]
    }
   ],
   "source": [
    "data = data[pd.notnull(data['hasCriminal'])]\n",
    "print(data.head())\n",
    "print(data.shape)"
   ]
  },
  {
   "cell_type": "code",
   "execution_count": 8,
   "metadata": {},
   "outputs": [
    {
     "name": "stdout",
     "output_type": "stream",
     "text": [
      "  hasBankrupt hasBond hasCivilJudc hasCriminal hasCustComp hasInvstgn  \\\n",
      "0           N       N            N           N           Y          N   \n",
      "2           N       N            N           N           Y          N   \n",
      "4           N       N            N           N           Y          N   \n",
      "7           N       N            N           N           N          N   \n",
      "9           N       N            N           N           N          N   \n",
      "\n",
      "  hasJudgment hasRegAction hasTermination actvAGReg  \n",
      "0           N            N              N         Y  \n",
      "2           N            N              N         Y  \n",
      "4           N            N              N         Y  \n",
      "7           N            N              Y         N  \n",
      "9           N            Y              N         Y  \n"
     ]
    },
    {
     "name": "stderr",
     "output_type": "stream",
     "text": [
      "C:\\Users\\pazzu\\Anaconda3\\lib\\site-packages\\ipykernel_launcher.py:2: SettingWithCopyWarning: \n",
      "A value is trying to be set on a copy of a slice from a DataFrame.\n",
      "Try using .loc[row_indexer,col_indexer] = value instead\n",
      "\n",
      "See the caveats in the documentation: http://pandas.pydata.org/pandas-docs/stable/indexing.html#indexing-view-versus-copy\n",
      "  \n"
     ]
    }
   ],
   "source": [
    "data_2 = data.loc[:, 'hasBankrupt':'hasTermination']\n",
    "data_2['actvAGReg'] = data['actvAGReg']\n",
    "print(data_2.head())"
   ]
  },
  {
   "cell_type": "code",
   "execution_count": 9,
   "metadata": {},
   "outputs": [
    {
     "name": "stdout",
     "output_type": "stream",
     "text": [
      "   hasBankrupt  hasBond  hasCivilJudc  hasCriminal  hasCustComp  hasInvstgn  \\\n",
      "0            0        0             0            0            1           0   \n",
      "2            0        0             0            0            1           0   \n",
      "4            0        0             0            0            1           0   \n",
      "7            0        0             0            0            0           0   \n",
      "9            0        0             0            0            0           0   \n",
      "\n",
      "   hasJudgment  hasRegAction  hasTermination  actvAGReg  \n",
      "0            0             0               0          1  \n",
      "2            0             0               0          1  \n",
      "4            0             0               0          1  \n",
      "7            0             0               1          0  \n",
      "9            0             1               0          1  \n"
     ]
    }
   ],
   "source": [
    "data_2 = data_2.replace(['Y','N'], [1, 0])\n",
    "print(data_2.head())"
   ]
  },
  {
   "cell_type": "code",
   "execution_count": 10,
   "metadata": {},
   "outputs": [
    {
     "data": {
      "text/plain": [
       "(1000, 2)"
      ]
     },
     "execution_count": 10,
     "metadata": {},
     "output_type": "execute_result"
    }
   ],
   "source": [
    "from sklearn.manifold import TSNE\n",
    "\n",
    "import logging\n",
    "logging.basicConfig()\n",
    "logging.getLogger().setLevel(logging.DEBUG)\n",
    "\n",
    "data_2 = data_2[:1000]\n",
    "\n",
    "hasCriminal = data_2.hasCriminal\n",
    "hasBankrupt = data_2.hasBankrupt\n",
    "\n",
    "X_embedded = TSNE(n_components=2).fit_transform(data_2)\n",
    "X_embedded.shape"
   ]
  },
  {
   "cell_type": "code",
   "execution_count": 11,
   "metadata": {},
   "outputs": [
    {
     "name": "stdout",
     "output_type": "stream",
     "text": [
      "                hasBankrupt  hasBond  hasCivilJudc  hasCriminal  hasCustComp  \\\n",
      "hasBankrupt        1.000000      NaN           NaN    -0.098810    -0.517108   \n",
      "hasBond                 NaN      NaN           NaN          NaN          NaN   \n",
      "hasCivilJudc            NaN      NaN           NaN          NaN          NaN   \n",
      "hasCriminal       -0.098810      NaN           NaN     1.000000    -0.292112   \n",
      "hasCustComp       -0.517108      NaN           NaN    -0.292112     1.000000   \n",
      "hasInvstgn        -0.018732      NaN           NaN    -0.012839     0.026121   \n",
      "hasJudgment       -0.012628      NaN           NaN    -0.032498    -0.234778   \n",
      "hasRegAction      -0.054677      NaN           NaN    -0.030641    -0.233501   \n",
      "hasTermination    -0.044738      NaN           NaN    -0.001389    -0.128471   \n",
      "actvAGReg         -0.030941      NaN           NaN    -0.054826     0.137530   \n",
      "\n",
      "                hasInvstgn  hasJudgment  hasRegAction  hasTermination  \\\n",
      "hasBankrupt      -0.018732    -0.012628     -0.054677       -0.044738   \n",
      "hasBond                NaN          NaN           NaN             NaN   \n",
      "hasCivilJudc           NaN          NaN           NaN             NaN   \n",
      "hasCriminal      -0.012839    -0.032498     -0.030641       -0.001389   \n",
      "hasCustComp       0.026121    -0.234778     -0.233501       -0.128471   \n",
      "hasInvstgn        1.000000    -0.012092      0.078252        0.077528   \n",
      "hasJudgment      -0.012092     1.000000     -0.023806        0.022942   \n",
      "hasRegAction      0.078252    -0.023806      1.000000        0.105967   \n",
      "hasTermination    0.077528     0.022942      0.105967        1.000000   \n",
      "actvAGReg        -0.055435    -0.031006     -0.162501       -0.058098   \n",
      "\n",
      "                actvAGReg  \n",
      "hasBankrupt     -0.030941  \n",
      "hasBond               NaN  \n",
      "hasCivilJudc          NaN  \n",
      "hasCriminal     -0.054826  \n",
      "hasCustComp      0.137530  \n",
      "hasInvstgn      -0.055435  \n",
      "hasJudgment     -0.031006  \n",
      "hasRegAction    -0.162501  \n",
      "hasTermination  -0.058098  \n",
      "actvAGReg        1.000000  \n"
     ]
    }
   ],
   "source": [
    "print(data_2.corr())"
   ]
  },
  {
   "cell_type": "code",
   "execution_count": 12,
   "metadata": {},
   "outputs": [
    {
     "name": "stderr",
     "output_type": "stream",
     "text": [
      "DEBUG:matplotlib:CACHEDIR=C:\\Users\\pazzu\\.matplotlib\n",
      "DEBUG:matplotlib.font_manager:Using fontManager instance from C:\\Users\\pazzu\\.matplotlib\\fontList.json\n",
      "DEBUG:matplotlib.backends:backend module://ipykernel.pylab.backend_inline version unknown\n",
      "DEBUG:matplotlib.backends:backend module://ipykernel.pylab.backend_inline version unknown\n",
      "DEBUG:matplotlib.font_manager:findfont: Matching :family=sans-serif:style=normal:variant=normal:weight=normal:stretch=normal:size=10.0 to DejaVu Sans ('C:\\\\Users\\\\pazzu\\\\Anaconda3\\\\lib\\\\site-packages\\\\matplotlib\\\\mpl-data\\\\fonts\\\\ttf\\\\DejaVuSans.ttf') with score of 0.050000\n"
     ]
    },
    {
     "data": {
      "image/png": "[encoded data removed]",
      "text/plain": [
       "<Figure size 288x288 with 1 Axes>"
      ]
     },
     "metadata": {
      "needs_background": "light"
     },
     "output_type": "display_data"
    },
    {
     "name": "stderr",
     "output_type": "stream",
     "text": [
      "DEBUG:matplotlib.backends:backend module://ipykernel.pylab.backend_inline version unknown\n"
     ]
    }
   ],
   "source": [
    "%matplotlib inline \n",
    "import matplotlib.pyplot as plt\n",
    "\n",
    "plt.matshow(data_2.corr())\n",
    "plt.show()"
   ]
  },
  {
   "cell_type": "code",
   "execution_count": 13,
   "metadata": {},
   "outputs": [
    {
     "data": {
      "text/plain": [
       "<matplotlib.axes._subplots.AxesSubplot at 0x190168c9f28>"
      ]
     },
     "execution_count": 13,
     "metadata": {},
     "output_type": "execute_result"
    },
    {
     "data": {
      "image/png": "[encoded data removed]",
      "text/plain": [
       "<Figure size 432x288 with 2 Axes>"
      ]
     },
     "metadata": {
      "needs_background": "light"
     },
     "output_type": "display_data"
    }
   ],
   "source": [
    "import seaborn as sns\n",
    "corr = data_2.corr()\n",
    "sns.heatmap(corr, \n",
    "            xticklabels=corr.columns.values,\n",
    "            yticklabels=corr.columns.values)"
   ]
  },
  {
   "cell_type": "code",
   "execution_count": 14,
   "metadata": {},
   "outputs": [
    {
     "name": "stdout",
     "output_type": "stream",
     "text": [
      "['#1f77b4' '#1f77b4' '#1f77b4' '#1f77b4' '#1f77b4' '#1f77b4' '#1f77b4'\n",
      " '#ff7f0e' '#1f77b4' '#ff7f0e' '#1f77b4' '#1f77b4' '#1f77b4' '#1f77b4'\n",
      " '#1f77b4' '#ff7f0e' '#1f77b4' '#1f77b4' '#1f77b4' '#1f77b4' '#1f77b4'\n",
      " '#1f77b4' '#ff7f0e' '#1f77b4' '#ff7f0e' '#1f77b4' '#1f77b4' '#1f77b4'\n",
      " '#1f77b4' '#1f77b4' '#1f77b4' '#1f77b4' '#1f77b4' '#1f77b4' '#1f77b4'\n",
      " '#1f77b4' '#1f77b4' '#1f77b4' '#1f77b4' '#1f77b4' '#1f77b4' '#1f77b4'\n",
      " '#ff7f0e' '#1f77b4' '#1f77b4' '#1f77b4' '#1f77b4' '#1f77b4' '#1f77b4'\n",
      " '#1f77b4' '#1f77b4' '#1f77b4' '#1f77b4' '#ff7f0e' '#1f77b4' '#1f77b4'\n",
      " '#1f77b4' '#1f77b4' '#1f77b4' '#1f77b4' '#1f77b4' '#1f77b4' '#1f77b4'\n",
      " '#1f77b4' '#1f77b4' '#1f77b4' '#1f77b4' '#1f77b4' '#1f77b4' '#1f77b4'\n",
      " '#1f77b4' '#1f77b4' '#1f77b4' '#1f77b4' '#1f77b4' '#1f77b4' '#1f77b4'\n",
      " '#1f77b4' '#1f77b4' '#1f77b4' '#1f77b4' '#ff7f0e' '#1f77b4' '#1f77b4'\n",
      " '#1f77b4' '#ff7f0e' '#1f77b4' '#1f77b4' '#1f77b4' '#1f77b4' '#1f77b4'\n",
      " '#1f77b4' '#1f77b4' '#1f77b4' '#1f77b4' '#1f77b4' '#ff7f0e' '#1f77b4'\n",
      " '#1f77b4' '#1f77b4' '#1f77b4' '#1f77b4' '#1f77b4' '#1f77b4' '#1f77b4'\n",
      " '#1f77b4' '#1f77b4' '#1f77b4' '#1f77b4' '#1f77b4' '#1f77b4' '#1f77b4'\n",
      " '#1f77b4' '#1f77b4' '#1f77b4' '#1f77b4' '#1f77b4' '#1f77b4' '#1f77b4'\n",
      " '#1f77b4' '#1f77b4' '#1f77b4' '#1f77b4' '#1f77b4' '#1f77b4' '#1f77b4'\n",
      " '#1f77b4' '#1f77b4' '#1f77b4' '#1f77b4' '#ff7f0e' '#1f77b4' '#1f77b4'\n",
      " '#1f77b4' '#1f77b4' '#1f77b4' '#1f77b4' '#1f77b4' '#1f77b4' '#1f77b4'\n",
      " '#1f77b4' '#1f77b4' '#1f77b4' '#1f77b4' '#1f77b4' '#1f77b4' '#1f77b4'\n",
      " '#1f77b4' '#1f77b4' '#1f77b4' '#1f77b4' '#ff7f0e' '#1f77b4' '#1f77b4'\n",
      " '#1f77b4' '#1f77b4' '#1f77b4' '#1f77b4' '#1f77b4' '#1f77b4' '#1f77b4'\n",
      " '#ff7f0e' '#1f77b4' '#1f77b4' '#ff7f0e' '#1f77b4' '#1f77b4' '#1f77b4'\n",
      " '#1f77b4' '#1f77b4' '#1f77b4' '#1f77b4' '#1f77b4' '#1f77b4' '#ff7f0e'\n",
      " '#1f77b4' '#1f77b4' '#1f77b4' '#1f77b4' '#1f77b4' '#1f77b4' '#1f77b4'\n",
      " '#ff7f0e' '#1f77b4' '#1f77b4' '#1f77b4' '#1f77b4' '#1f77b4' '#1f77b4'\n",
      " '#1f77b4' '#1f77b4' '#1f77b4' '#1f77b4' '#1f77b4' '#1f77b4' '#1f77b4'\n",
      " '#1f77b4' '#1f77b4' '#1f77b4' '#1f77b4' '#ff7f0e' '#1f77b4' '#1f77b4'\n",
      " '#1f77b4' '#1f77b4' '#1f77b4' '#1f77b4' '#1f77b4' '#1f77b4' '#1f77b4'\n",
      " '#1f77b4' '#ff7f0e' '#1f77b4' '#1f77b4' '#ff7f0e' '#1f77b4' '#1f77b4'\n",
      " '#1f77b4' '#1f77b4' '#1f77b4' '#1f77b4' '#1f77b4' '#1f77b4' '#1f77b4'\n",
      " '#1f77b4' '#1f77b4' '#1f77b4' '#1f77b4' '#1f77b4' '#1f77b4' '#1f77b4'\n",
      " '#1f77b4' '#1f77b4' '#1f77b4' '#1f77b4' '#1f77b4' '#1f77b4' '#1f77b4'\n",
      " '#1f77b4' '#1f77b4' '#1f77b4' '#1f77b4' '#1f77b4' '#1f77b4' '#1f77b4'\n",
      " '#1f77b4' '#1f77b4' '#1f77b4' '#1f77b4' '#1f77b4' '#1f77b4' '#1f77b4'\n",
      " '#1f77b4' '#1f77b4' '#1f77b4' '#1f77b4' '#1f77b4' '#1f77b4' '#1f77b4'\n",
      " '#1f77b4' '#1f77b4' '#1f77b4' '#1f77b4' '#1f77b4' '#1f77b4' '#1f77b4'\n",
      " '#1f77b4' '#1f77b4' '#1f77b4' '#1f77b4' '#1f77b4' '#1f77b4' '#1f77b4'\n",
      " '#1f77b4' '#1f77b4' '#1f77b4' '#1f77b4' '#1f77b4' '#1f77b4' '#ff7f0e'\n",
      " '#1f77b4' '#1f77b4' '#1f77b4' '#ff7f0e' '#1f77b4' '#1f77b4' '#1f77b4'\n",
      " '#1f77b4' '#ff7f0e' '#1f77b4' '#1f77b4' '#ff7f0e' '#1f77b4' '#1f77b4'\n",
      " '#1f77b4' '#1f77b4' '#1f77b4' '#1f77b4' '#1f77b4' '#1f77b4' '#1f77b4'\n",
      " '#1f77b4' '#1f77b4' '#1f77b4' '#1f77b4' '#1f77b4' '#1f77b4' '#1f77b4'\n",
      " '#1f77b4' '#1f77b4' '#1f77b4' '#1f77b4' '#1f77b4' '#1f77b4' '#1f77b4'\n",
      " '#1f77b4' '#1f77b4' '#1f77b4' '#1f77b4' '#1f77b4' '#1f77b4' '#1f77b4'\n",
      " '#1f77b4' '#1f77b4' '#1f77b4' '#1f77b4' '#1f77b4' '#1f77b4' '#1f77b4'\n",
      " '#1f77b4' '#ff7f0e' '#1f77b4' '#1f77b4' '#1f77b4' '#1f77b4' '#1f77b4'\n",
      " '#1f77b4' '#1f77b4' '#1f77b4' '#1f77b4' '#1f77b4' '#1f77b4' '#1f77b4'\n",
      " '#1f77b4' '#1f77b4' '#1f77b4' '#1f77b4' '#1f77b4' '#ff7f0e' '#1f77b4'\n",
      " '#1f77b4' '#1f77b4' '#1f77b4' '#1f77b4' '#1f77b4' '#1f77b4' '#1f77b4'\n",
      " '#1f77b4' '#1f77b4' '#1f77b4' '#1f77b4' '#1f77b4' '#1f77b4' '#1f77b4'\n",
      " '#1f77b4' '#1f77b4' '#1f77b4' '#1f77b4' '#1f77b4' '#1f77b4' '#1f77b4'\n",
      " '#1f77b4' '#1f77b4' '#1f77b4' '#1f77b4' '#1f77b4' '#1f77b4' '#1f77b4'\n",
      " '#1f77b4' '#1f77b4' '#1f77b4' '#1f77b4' '#1f77b4' '#1f77b4' '#1f77b4'\n",
      " '#ff7f0e' '#1f77b4' '#1f77b4' '#1f77b4' '#1f77b4' '#1f77b4' '#1f77b4'\n",
      " '#ff7f0e' '#1f77b4' '#1f77b4' '#1f77b4' '#1f77b4' '#1f77b4' '#1f77b4'\n",
      " '#1f77b4' '#1f77b4' '#1f77b4' '#1f77b4' '#ff7f0e' '#1f77b4' '#1f77b4'\n",
      " '#1f77b4' '#1f77b4' '#ff7f0e' '#1f77b4' '#1f77b4' '#1f77b4' '#ff7f0e'\n",
      " '#1f77b4' '#1f77b4' '#1f77b4' '#1f77b4' '#1f77b4' '#1f77b4' '#1f77b4'\n",
      " '#1f77b4' '#ff7f0e' '#1f77b4' '#1f77b4' '#1f77b4' '#1f77b4' '#1f77b4'\n",
      " '#1f77b4' '#1f77b4' '#1f77b4' '#1f77b4' '#1f77b4' '#1f77b4' '#1f77b4'\n",
      " '#1f77b4' '#1f77b4' '#1f77b4' '#1f77b4' '#1f77b4' '#1f77b4' '#1f77b4'\n",
      " '#1f77b4' '#1f77b4' '#1f77b4' '#1f77b4' '#1f77b4' '#1f77b4' '#1f77b4'\n",
      " '#1f77b4' '#1f77b4' '#1f77b4' '#1f77b4' '#1f77b4' '#1f77b4' '#ff7f0e'\n",
      " '#ff7f0e' '#1f77b4' '#1f77b4' '#1f77b4' '#ff7f0e' '#1f77b4' '#1f77b4'\n",
      " '#1f77b4' '#1f77b4' '#1f77b4' '#1f77b4' '#1f77b4' '#1f77b4' '#1f77b4'\n",
      " '#ff7f0e' '#1f77b4' '#1f77b4' '#1f77b4' '#1f77b4' '#ff7f0e' '#1f77b4'\n",
      " '#1f77b4' '#1f77b4' '#1f77b4' '#1f77b4' '#1f77b4' '#1f77b4' '#1f77b4'\n",
      " '#1f77b4' '#1f77b4' '#1f77b4' '#1f77b4' '#1f77b4' '#ff7f0e' '#1f77b4'\n",
      " '#1f77b4' '#1f77b4' '#1f77b4' '#1f77b4' '#1f77b4' '#1f77b4' '#1f77b4'\n",
      " '#1f77b4' '#ff7f0e' '#1f77b4' '#1f77b4' '#1f77b4' '#1f77b4' '#1f77b4'\n",
      " '#1f77b4' '#1f77b4' '#1f77b4' '#1f77b4' '#1f77b4' '#1f77b4' '#1f77b4'\n",
      " '#1f77b4' '#1f77b4' '#1f77b4' '#1f77b4' '#1f77b4' '#1f77b4' '#1f77b4'\n",
      " '#1f77b4' '#1f77b4' '#1f77b4' '#1f77b4' '#1f77b4' '#ff7f0e' '#1f77b4'\n",
      " '#1f77b4' '#1f77b4' '#1f77b4' '#1f77b4' '#1f77b4' '#1f77b4' '#1f77b4'\n",
      " '#1f77b4' '#1f77b4' '#1f77b4' '#1f77b4' '#1f77b4' '#1f77b4' '#ff7f0e'\n",
      " '#1f77b4' '#1f77b4' '#1f77b4' '#1f77b4' '#1f77b4' '#1f77b4' '#1f77b4'\n",
      " '#1f77b4' '#1f77b4' '#1f77b4' '#1f77b4' '#1f77b4' '#ff7f0e' '#1f77b4'\n",
      " '#1f77b4' '#1f77b4' '#1f77b4' '#1f77b4' '#ff7f0e' '#1f77b4' '#1f77b4'\n",
      " '#1f77b4' '#1f77b4' '#1f77b4' '#1f77b4' '#1f77b4' '#1f77b4' '#1f77b4'\n",
      " '#1f77b4' '#1f77b4' '#1f77b4' '#1f77b4' '#1f77b4' '#1f77b4' '#1f77b4'\n",
      " '#1f77b4' '#1f77b4' '#1f77b4' '#1f77b4' '#1f77b4' '#1f77b4' '#1f77b4'\n",
      " '#1f77b4' '#1f77b4' '#1f77b4' '#1f77b4' '#1f77b4' '#1f77b4' '#1f77b4'\n",
      " '#1f77b4' '#1f77b4' '#1f77b4' '#1f77b4' '#1f77b4' '#1f77b4' '#1f77b4'\n",
      " '#1f77b4' '#1f77b4' '#1f77b4' '#1f77b4' '#1f77b4' '#ff7f0e' '#1f77b4'\n",
      " '#1f77b4' '#1f77b4' '#ff7f0e' '#1f77b4' '#1f77b4' '#1f77b4' '#1f77b4'\n",
      " '#1f77b4' '#1f77b4' '#1f77b4' '#1f77b4' '#1f77b4' '#1f77b4' '#1f77b4'\n",
      " '#1f77b4' '#ff7f0e' '#1f77b4' '#1f77b4' '#1f77b4' '#1f77b4' '#1f77b4'\n",
      " '#1f77b4' '#1f77b4' '#1f77b4' '#1f77b4' '#1f77b4' '#1f77b4' '#1f77b4'\n",
      " '#1f77b4' '#1f77b4' '#1f77b4' '#1f77b4' '#1f77b4' '#1f77b4' '#1f77b4'\n",
      " '#1f77b4' '#1f77b4' '#1f77b4' '#1f77b4' '#1f77b4' '#1f77b4' '#ff7f0e'\n",
      " '#1f77b4' '#1f77b4' '#1f77b4' '#1f77b4' '#1f77b4' '#1f77b4' '#1f77b4'\n",
      " '#1f77b4' '#ff7f0e' '#1f77b4' '#1f77b4' '#1f77b4' '#1f77b4' '#1f77b4'\n",
      " '#1f77b4' '#1f77b4' '#ff7f0e' '#1f77b4' '#1f77b4' '#1f77b4' '#1f77b4'\n",
      " '#1f77b4' '#1f77b4' '#1f77b4' '#1f77b4' '#1f77b4' '#1f77b4' '#1f77b4'\n",
      " '#1f77b4' '#1f77b4' '#1f77b4' '#1f77b4' '#1f77b4' '#1f77b4' '#1f77b4'\n",
      " '#1f77b4' '#1f77b4' '#1f77b4' '#1f77b4' '#ff7f0e' '#1f77b4' '#1f77b4'\n",
      " '#1f77b4' '#1f77b4' '#1f77b4' '#1f77b4' '#1f77b4' '#1f77b4' '#1f77b4'\n",
      " '#1f77b4' '#ff7f0e' '#1f77b4' '#1f77b4' '#1f77b4' '#1f77b4' '#1f77b4'\n",
      " '#1f77b4' '#1f77b4' '#1f77b4' '#1f77b4' '#1f77b4' '#ff7f0e' '#1f77b4'\n",
      " '#1f77b4' '#1f77b4' '#1f77b4' '#ff7f0e' '#1f77b4' '#1f77b4' '#1f77b4'\n",
      " '#1f77b4' '#1f77b4' '#1f77b4' '#1f77b4' '#1f77b4' '#1f77b4' '#1f77b4'\n",
      " '#1f77b4' '#1f77b4' '#1f77b4' '#1f77b4' '#1f77b4' '#ff7f0e' '#1f77b4'\n",
      " '#1f77b4' '#1f77b4' '#1f77b4' '#1f77b4' '#1f77b4' '#1f77b4' '#1f77b4'\n",
      " '#1f77b4' '#1f77b4' '#1f77b4' '#1f77b4' '#1f77b4' '#1f77b4' '#1f77b4'\n",
      " '#1f77b4' '#1f77b4' '#1f77b4' '#1f77b4' '#1f77b4' '#1f77b4' '#1f77b4'\n",
      " '#1f77b4' '#1f77b4' '#1f77b4' '#1f77b4' '#1f77b4' '#1f77b4' '#1f77b4'\n",
      " '#1f77b4' '#1f77b4' '#ff7f0e' '#1f77b4' '#1f77b4' '#1f77b4' '#1f77b4'\n",
      " '#1f77b4' '#ff7f0e' '#1f77b4' '#1f77b4' '#ff7f0e' '#1f77b4' '#1f77b4'\n",
      " '#1f77b4' '#ff7f0e' '#1f77b4' '#1f77b4' '#1f77b4' '#1f77b4' '#ff7f0e'\n",
      " '#1f77b4' '#1f77b4' '#1f77b4' '#1f77b4' '#1f77b4' '#1f77b4' '#1f77b4'\n",
      " '#1f77b4' '#1f77b4' '#1f77b4' '#1f77b4' '#1f77b4' '#1f77b4' '#1f77b4'\n",
      " '#1f77b4' '#1f77b4' '#1f77b4' '#1f77b4' '#1f77b4' '#1f77b4' '#1f77b4'\n",
      " '#1f77b4' '#1f77b4' '#1f77b4' '#1f77b4' '#1f77b4' '#1f77b4' '#1f77b4'\n",
      " '#1f77b4' '#1f77b4' '#1f77b4' '#1f77b4' '#1f77b4' '#1f77b4' '#1f77b4'\n",
      " '#ff7f0e' '#ff7f0e' '#1f77b4' '#1f77b4' '#1f77b4' '#1f77b4' '#1f77b4'\n",
      " '#1f77b4' '#1f77b4' '#1f77b4' '#1f77b4' '#1f77b4' '#1f77b4' '#1f77b4'\n",
      " '#1f77b4' '#1f77b4' '#1f77b4' '#1f77b4' '#1f77b4' '#ff7f0e' '#ff7f0e'\n",
      " '#1f77b4' '#1f77b4' '#1f77b4' '#1f77b4' '#1f77b4' '#1f77b4' '#1f77b4'\n",
      " '#1f77b4' '#1f77b4' '#1f77b4' '#1f77b4' '#1f77b4' '#1f77b4' '#1f77b4'\n",
      " '#1f77b4' '#1f77b4' '#1f77b4' '#ff7f0e' '#1f77b4' '#1f77b4' '#1f77b4'\n",
      " '#1f77b4' '#1f77b4' '#1f77b4' '#ff7f0e' '#1f77b4' '#1f77b4' '#1f77b4'\n",
      " '#1f77b4' '#1f77b4' '#1f77b4' '#1f77b4' '#1f77b4' '#1f77b4' '#ff7f0e'\n",
      " '#1f77b4' '#ff7f0e' '#1f77b4' '#1f77b4' '#1f77b4' '#1f77b4' '#1f77b4'\n",
      " '#1f77b4' '#ff7f0e' '#1f77b4' '#1f77b4' '#1f77b4' '#1f77b4' '#1f77b4'\n",
      " '#1f77b4' '#ff7f0e' '#1f77b4' '#1f77b4' '#1f77b4' '#1f77b4' '#1f77b4'\n",
      " '#1f77b4' '#1f77b4' '#1f77b4' '#1f77b4' '#1f77b4' '#1f77b4' '#1f77b4'\n",
      " '#1f77b4' '#1f77b4' '#1f77b4' '#1f77b4' '#1f77b4' '#1f77b4' '#1f77b4'\n",
      " '#1f77b4' '#1f77b4' '#1f77b4' '#1f77b4' '#1f77b4' '#1f77b4' '#1f77b4'\n",
      " '#1f77b4' '#1f77b4' '#1f77b4' '#1f77b4' '#1f77b4' '#1f77b4' '#1f77b4'\n",
      " '#1f77b4' '#1f77b4' '#ff7f0e' '#1f77b4' '#1f77b4' '#1f77b4' '#1f77b4'\n",
      " '#1f77b4' '#1f77b4' '#1f77b4' '#1f77b4' '#1f77b4' '#1f77b4' '#ff7f0e'\n",
      " '#ff7f0e' '#1f77b4' '#1f77b4' '#1f77b4' '#1f77b4' '#1f77b4' '#1f77b4'\n",
      " '#1f77b4' '#1f77b4' '#1f77b4' '#1f77b4' '#1f77b4' '#1f77b4' '#1f77b4'\n",
      " '#1f77b4' '#1f77b4' '#1f77b4' '#1f77b4' '#1f77b4' '#1f77b4' '#1f77b4'\n",
      " '#1f77b4' '#1f77b4' '#1f77b4' '#1f77b4' '#1f77b4' '#1f77b4' '#1f77b4'\n",
      " '#ff7f0e' '#1f77b4' '#1f77b4' '#1f77b4' '#1f77b4' '#1f77b4' '#1f77b4'\n",
      " '#1f77b4' '#1f77b4' '#1f77b4' '#1f77b4' '#1f77b4' '#1f77b4' '#1f77b4'\n",
      " '#1f77b4' '#1f77b4' '#1f77b4' '#1f77b4' '#1f77b4' '#1f77b4' '#1f77b4'\n",
      " '#ff7f0e' '#1f77b4' '#1f77b4' '#1f77b4' '#1f77b4' '#1f77b4' '#ff7f0e'\n",
      " '#1f77b4' '#1f77b4' '#1f77b4' '#1f77b4' '#1f77b4' '#1f77b4' '#1f77b4'\n",
      " '#1f77b4' '#1f77b4' '#1f77b4' '#ff7f0e' '#1f77b4' '#ff7f0e']\n",
      "(1000, 2)\n"
     ]
    }
   ],
   "source": [
    "import bokeh.plotting as bp\n",
    "from bokeh.plotting import save, curdoc\n",
    "from bokeh.models import HoverTool\n",
    "from bokeh.models import ColumnDataSource\n",
    "from bokeh.io import output_notebook\n",
    "\n",
    "colormap = np.array([\n",
    "\"#1f77b4\", \"#ff7f0e\", \"#aec7e8\", \"#ffbb78\", \"#2ca02c\",\n",
    "\"#98df8a\", \"#d62728\", \"#ff9896\", \"#9467bd\", \"#c5b0d5\",\n",
    "\"#8c564b\", \"#c49c94\", \"#e377c2\", \"#f7b6d2\", \"#7f7f7f\",\n",
    "\"#c7c7c7\", \"#bcbd22\", \"#dbdb8d\", \"#17becf\", \"#9edae5\"\n",
    "])\n",
    "\n",
    "print(colormap[hasCriminal])\n",
    "# fill_colors = colormap[hasCriminal]\n",
    "\n",
    "# X_embedded = X_embedded[:1000]\n",
    "print(X_embedded.shape)\n",
    "title = \"plot\"\n",
    "\n",
    "\n",
    "\n",
    "def make_dataset():\n",
    "    \n",
    "    x_values = X_embedded[:,0]\n",
    "    y_values = X_embedded[:,1]\n",
    "    fill_colors = colormap[hasCriminal]\n",
    "#     contents = news_df_copy['TITLE']\n",
    "#     topic_keys = news_df_copy['topic_key']\n",
    "#     dates = news_df_copy['DATETIME'].apply(lambda x: str(x))\n",
    "#     topic_words = news_df_copy['topic_words']\n",
    "    \n",
    "    data={\n",
    "        \"x_values\": x_values,\n",
    "        \"y_values\": y_values,\n",
    "        \"fill_color\": fill_colors,\n",
    "#         \"content\": contents,\n",
    "#         \"topic_key\": topic_keys,\n",
    "#         \"topic_words\": topic_words,\n",
    "#         \"date\": dates\n",
    "        }\n",
    "    \n",
    "    return ColumnDataSource(data)\n",
    "\n",
    "def make_plot(src):\n",
    "    \n",
    "    plot_lda = bp.figure(plot_width=1000, plot_height=800,\n",
    "                    title=title,\n",
    "                    tools=\"pan,wheel_zoom,box_zoom,reset,hover,previewsave\",\n",
    "                    x_axis_type=None, y_axis_type=None, min_border=1)\n",
    "    \n",
    "    plot_lda.scatter(x=\"x_values\", y=\"y_values\",\n",
    "                    marker=\"circle\",\n",
    "                    size=15,\n",
    "                    line_color=None,\n",
    "                    fill_color=\"fill_color\",\n",
    "                    fill_alpha=0.5,\n",
    "#                     legend=\"topic_words\",\n",
    "                    source=src\n",
    "                    )\n",
    "    return plot_lda"
   ]
  },
  {
   "cell_type": "code",
   "execution_count": 15,
   "metadata": {},
   "outputs": [
    {
     "data": {
      "text/plain": [
       "<function bokeh.io.output.output_notebook(resources=None, verbose=False, hide_banner=False, load_timeout=5000, notebook_type='jupyter')>"
      ]
     },
     "execution_count": 15,
     "metadata": {},
     "output_type": "execute_result"
    }
   ],
   "source": [
    "output_notebook"
   ]
  },
  {
   "cell_type": "code",
   "execution_count": 16,
   "metadata": {},
   "outputs": [],
   "source": [
    "src = make_dataset()\n",
    "plot_lda = make_plot(src)\n",
    "bp.show(plot_lda)"
   ]
  },
  {
   "cell_type": "code",
   "execution_count": null,
   "metadata": {},
   "outputs": [],
   "source": []
  }
 ],
 "metadata": {
  "kernelspec": {
   "display_name": "Python 3",
   "language": "python",
   "name": "python3"
  },
  "language_info": {
   "codemirror_mode": {
    "name": "ipython",
    "version": 3
   },
   "file_extension": ".py",
   "mimetype": "text/x-python",
   "name": "python",
   "nbconvert_exporter": "python",
   "pygments_lexer": "ipython3",
   "version": "3.7.0"
  }
 },
 "nbformat": 4,
 "nbformat_minor": 2
}
